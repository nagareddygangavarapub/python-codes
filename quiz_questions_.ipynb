{
  "nbformat": 4,
  "nbformat_minor": 0,
  "metadata": {
    "colab": {
      "provenance": [],
      "authorship_tag": "ABX9TyO30dytU+yvnECxVNn1HqnI",
      "include_colab_link": true
    },
    "kernelspec": {
      "name": "python3",
      "display_name": "Python 3"
    },
    "language_info": {
      "name": "python"
    }
  },
  "cells": [
    {
      "cell_type": "markdown",
      "metadata": {
        "id": "view-in-github",
        "colab_type": "text"
      },
      "source": [
        "<a href=\"https://colab.research.google.com/github/nagareddygangavarapub/python-codes/blob/main/quiz_questions_.ipynb\" target=\"_parent\"><img src=\"https://colab.research.google.com/assets/colab-badge.svg\" alt=\"Open In Colab\"/></a>"
      ]
    },
    {
      "cell_type": "code",
      "execution_count": null,
      "metadata": {
        "colab": {
          "base_uri": "https://localhost:8080/"
        },
        "id": "18lsBUwxC8lZ",
        "outputId": "c76d4d82-75b6-467d-aca2-8c9a66b48e82"
      },
      "outputs": [
        {
          "metadata": {
            "tags": null
          },
          "name": "stdout",
          "output_type": "stream",
          "text": [
            "Welcome to the quiz\n"
          ]
        }
      ],
      "source": [
        "print(\"Welcome to the quiz\")\n",
        "\n",
        "playing=input(\"do you want to play?  \")\n",
        "if playing.lower()!=\"yes\":\n",
        "  quit()\n",
        "print(\"Let's paly\")\n",
        "score=0\n",
        "\n",
        "answer=input(\"what does CPU stands for?  \")\n",
        "if answer.lower()==\"central processing unit\":\n",
        "  print(\"correct!\")\n",
        "  score+=1\n",
        "else:\n",
        "  print(\"wrong\")\n",
        "\n",
        "\n",
        "answer=input(\"What does GPU stand for?  \")\n",
        "if answer.lower()==\"graphics processing unit\":\n",
        "  print(\"correct!\")\n",
        "  score+=1\n",
        "else:\n",
        "  print(\"wrong\")\n",
        "\n",
        "answer=input(\"what does RAM stands for?  \")\n",
        "if answer.lower()==\"random access memory\":\n",
        "  print(\"correct!\")\n",
        "  score+=1\n",
        "else:\n",
        "  print(\"wrong\")\n",
        "\n",
        "answer=input(\"what does PSU stands for?  \")\n",
        "if answer.lower()==\"Power Supply\":\n",
        "  print(\"correct!\")\n",
        "  score+=1\n",
        "else:\n",
        "  print(\"wrong\")\n",
        "\n",
        "print(\"Yo Got\"+ str(score) + \" questions correct!\")\n",
        "print(\"Yo Got\"+ str(score/4 * 100) + \" questions correct!\")\n",
        "\n",
        "\n",
        "\n",
        "\n",
        "\n"
      ]
    }
  ]
}